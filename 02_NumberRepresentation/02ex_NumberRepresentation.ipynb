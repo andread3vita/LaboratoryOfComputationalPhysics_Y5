{
 "cells": [
  {
   "cell_type": "markdown",
   "metadata": {},
   "source": [
    "1\\. Write a function that converts number representation, bin<->dec<->hex. (Clearly using the corresponding python built-in functions is not fair..)"
   ]
  },
  {
   "cell_type": "code",
   "execution_count": 28,
   "metadata": {},
   "outputs": [],
   "source": [
    "def convertall(num,base_in, base_fin):\n",
    "    if base_in==2:\n",
    "        if base_fin==10:\n",
    "            d=0\n",
    "            for i,c in enumerate(num[::-1]):\n",
    "                d+=int(c)*2**i\n",
    "            return d\n",
    "        if base_fin==16:\n",
    "            temp=convertall(num,2,10)\n",
    "            return convertall(temp,10,16)\n",
    "            \n",
    "    elif base_in==16:\n",
    "        if base_fin==2:\n",
    "            temp_str=\"\"\n",
    "            for val in num:\n",
    "                if val == \"A\":\n",
    "                    val = \"10\"\n",
    "                if val == \"B\":\n",
    "                     val = \"11\"\n",
    "                if val == \"C\":\n",
    "                     val = \"12\"\n",
    "                if val == \"D\":\n",
    "                     val = \"13\"\n",
    "                if val == \"E\":\n",
    "                     val = \"14\"\n",
    "                if val == \"F\":\n",
    "                     val = \"15\"\n",
    "                else:\n",
    "                    val=val\n",
    "                vl=convertall(val,10,2)\n",
    "                temp_str+=vl\n",
    "            return temp_str\n",
    "        \n",
    "        if base_fin==10:\n",
    "            tmp=convertall(num,16,2)\n",
    "            conver = convertall(tmp,2,10)\n",
    "            return conver\n",
    "              \n",
    "    else:\n",
    "        num=int(num)\n",
    "        if base_fin==10: print(\"Fatto\", num)\n",
    "        elif base_fin==2:\n",
    "            remainders=[]\n",
    "            while num>0:\n",
    "                remainders.append(str(num%2))\n",
    "                num=num//2\n",
    "            return \"\".join(remainders[::-1])\n",
    "            \n",
    "        elif base_fin==16: \n",
    "            print(\"Ops, non l'ho ancora fatto\")\n",
    "            \n",
    "#manca 10 to 16"
   ]
  },
  {
   "cell_type": "code",
   "execution_count": 29,
   "metadata": {},
   "outputs": [
    {
     "name": "stdout",
     "output_type": "stream",
     "text": [
      "Ops, non l'ho ancora fatto\n",
      "None\n"
     ]
    }
   ],
   "source": [
    "print(convertall(\"11\",10,16))"
   ]
  },
  {
   "cell_type": "markdown",
   "metadata": {},
   "source": [
    "2\\. Write a function that converts a 32 bit word into a single precision floating point (i.e. interprets the various bits as sign, mantissa and exponent)"
   ]
  },
  {
   "cell_type": "code",
   "execution_count": 19,
   "metadata": {},
   "outputs": [],
   "source": [
    "import math\n",
    "def convertfloat(num):\n",
    "    num2=num\n",
    "    sign=int(num2[0])\n",
    "    exponent=int(num2[1:9],2)\n",
    "    mantissa=num2[9:32]\n",
    "    mant=1\n",
    "    \n",
    "    for i in range(0,22):\n",
    "        mant+=int(mantissa[i])*2**(-i-1)\n",
    "    numfin=((-1)**sign)*2**(exponent-127)*mant\n",
    "    print(numfin)\n",
    "    \n",
    "#funziona, ma devo correggerlo in modo tale da dare in input un binario invece che una stringa"
   ]
  },
  {
   "cell_type": "code",
   "execution_count": 20,
   "metadata": {},
   "outputs": [
    {
     "name": "stdout",
     "output_type": "stream",
     "text": [
      "2.5\n"
     ]
    }
   ],
   "source": [
    "convertfloat(\"01000000001000000000000000000000\")"
   ]
  },
  {
   "cell_type": "markdown",
   "metadata": {},
   "source": [
    "3\\. Write a program to determine the underflow and overflow limits (within a factor of 2) for python on your computer. \n",
    "\n",
    "**Tips**: define two variables inizialized to 1 and halve/double them enough time to exceed the under/over-flow limits  "
   ]
  },
  {
   "cell_type": "code",
   "execution_count": 23,
   "metadata": {},
   "outputs": [
    {
     "name": "stdout",
     "output_type": "stream",
     "text": [
      "5e-324\n"
     ]
    }
   ],
   "source": [
    "underflow=1.0\n",
    "\n",
    "while True:\n",
    "    if underflow/2==0:\n",
    "        print(underflow)\n",
    "        break\n",
    "    else:\n",
    "        underflow=underflow/2"
   ]
  },
  {
   "cell_type": "code",
   "execution_count": 24,
   "metadata": {},
   "outputs": [
    {
     "name": "stdout",
     "output_type": "stream",
     "text": [
      "8.98846567431158e+307\n"
     ]
    }
   ],
   "source": [
    "import math\n",
    "overflow=1.0\n",
    "\n",
    "while True:\n",
    "    if overflow*2==math.inf:\n",
    "        print(overflow)\n",
    "        break\n",
    "    else:\n",
    "        overflow*=2"
   ]
  },
  {
   "cell_type": "markdown",
   "metadata": {},
   "source": [
    "4\\. Write a program to determine the machine precision\n",
    "\n",
    "**Tips**: define a new variable by adding a smaller and smaller value (proceeding similarly to prob. 2) to an original variable and check the point where the two are the same "
   ]
  },
  {
   "cell_type": "code",
   "execution_count": 2,
   "metadata": {},
   "outputs": [
    {
     "name": "stdout",
     "output_type": "stream",
     "text": [
      "Machine precision is 10^-16\n"
     ]
    }
   ],
   "source": [
    "check=1\n",
    "i=0\n",
    "while True:\n",
    "    if check+10**(-i) == check:\n",
    "        print(\"Machine precision is\", \"10^{}\".format(-i))\n",
    "        break\n",
    "    else:\n",
    "        i+=1"
   ]
  },
  {
   "cell_type": "markdown",
   "metadata": {},
   "source": [
    "5\\. Write a function that takes in input three parameters $a$, $b$ and $c$ and prints out the two solutions to the quadratic equation $ax^2+bx+c=0$ using the standard formula:\n",
    "$$\n",
    "x=\\frac{-b\\pm\\sqrt{b^2-4ac}}{2a}\n",
    "$$\n",
    "\n",
    "(a) use the program to compute the solution for $a=0.001$, $b=1000$ and $c=0.001$\n",
    "\n",
    "(b) re-express the standard solution formula by multiplying top and bottom by $-b\\mp\\sqrt{b^2-4ac}$ and again find the solution for $a=0.001$, $b=1000$ and $c=0.001$. How does it compare with what previously obtained? Why?\n",
    "\n",
    "(c) write a function that compute the roots of a quadratic equation accurately in all cases"
   ]
  },
  {
   "cell_type": "code",
   "execution_count": 1,
   "metadata": {},
   "outputs": [
    {
     "data": {
      "text/plain": [
       "[(-9.999894245993346e-07, -999999.999999),\n",
       " (-1.000000000001e-06, -1000010.5755125057)]"
      ]
     },
     "execution_count": 1,
     "metadata": {},
     "output_type": "execute_result"
    }
   ],
   "source": [
    "import math\n",
    "\n",
    "def roots(a,b,c):\n",
    "    delta=b*b-4*a*c\n",
    "    x1=(-b+math.sqrt(delta))/(2*a)\n",
    "    x2=(-b-math.sqrt(delta))/(2*a)\n",
    "    return x1,x2\n",
    "\n",
    "def roots2(a,b,c):\n",
    "    delta=b*b-4*a*c\n",
    "    x1=-((2*c)/(b+math.sqrt(delta)))\n",
    "    x2=-((2*c)/(b-math.sqrt(delta)))\n",
    "    return x1,x2\n",
    "\n",
    "a=0.001\n",
    "b=1000\n",
    "c=0.001\n",
    "\n",
    "#non riesco a capire come fare il punto c (e di conseguenza non so rispondere alle domande del punto b)\n",
    "\n",
    "[roots(a,b,c),roots2(a,b,c)]"
   ]
  },
  {
   "cell_type": "markdown",
   "metadata": {},
   "source": [
    "6\\. Write a program that implements the function $f(x)=x(x−1)$\n",
    "\n",
    "(a) Calculate the derivative of the function at the point $x = 1$ using the derivative definition:\n",
    "\n",
    "$$\n",
    "\\frac{{\\rm d}f}{{\\rm d}x} = \\lim_{\\delta\\to0} \\frac{f(x+\\delta)-f(x)}{\\delta}\n",
    "$$\n",
    "\n",
    "with $\\delta = 10^{−2}$. Calculate the true value of the same derivative analytically and compare with the answer your program gives. The two will not agree perfectly. Why not?\n",
    "\n",
    "(b) Repeat the calculation for $\\delta = 10^{−4}, 10^{−6}, 10^{−8}, 10^{−10}, 10^{−12}$ and $10^{−14}$. How does the accuracy scales with $\\delta$?"
   ]
  },
  {
   "cell_type": "code",
   "execution_count": 30,
   "metadata": {},
   "outputs": [
    {
     "name": "stdout",
     "output_type": "stream",
     "text": [
      "Delta: 1.00e-02\t Der: 1.0100000000000009\t Err: 1.00e-02\n",
      "Delta: 1.00e-04\t Der: 1.0000999999998899\t Err: 1.00e-04\n",
      "Delta: 1.00e-06\t Der: 1.0000009999177333\t Err: 1.00e-06\n",
      "Delta: 1.00e-08\t Der: 1.0000000039225287\t Err: 3.92e-09\n",
      "Delta: 1.00e-10\t Der: 1.0000000828403710\t Err: 8.28e-08\n",
      "Delta: 1.00e-12\t Der: 1.0000889005833413\t Err: 8.89e-05\n",
      "Delta: 1.00e-14\t Der: 0.9992007221626509\t Err: 7.99e-04\n"
     ]
    }
   ],
   "source": [
    "def f(x):\n",
    "    return x*(x-1)\n",
    "\n",
    "def der_def(delta, f, x):\n",
    "    return (f(x+delta)-f(x))/delta\n",
    "\n",
    "deltas=[10**(-2*i) for i in range(1,8)]\n",
    "for delta in deltas:\n",
    "    d=der_def(delta,f, 1)\n",
    "    print('Delta: {delta:.2e}\\t Der: {der:.16f}\\t Err: {err:.2e}'.format(delta=delta, der=d, err=abs(d-1)))"
   ]
  },
  {
   "cell_type": "markdown",
   "metadata": {},
   "source": [
    "7\\. Consider the integral of the semicircle of radius 1:\n",
    "$$\n",
    "I=\\int_{-1}^{1} \\sqrt(1-x^2) {\\rm d}x\n",
    "$$\n",
    "which it's known to be $I=\\frac{\\pi}{2}=1.57079632679...$.\n",
    "Alternatively we can use the Riemann definition of the integral:\n",
    "$$\n",
    "I=\\lim_{N\\to\\infty} \\sum_{k=1}^{N} h y_k \n",
    "$$\n",
    "\n",
    "with $h=2/N$ the width of each of the $N$ slices the domain is divided into and where\n",
    "$y_k$ is the value of the function at the $k-$th slice.\n",
    "\n",
    "(a) Write a programe to compute the integral with $N=100$. How does the result compares to the true value?\n",
    "\n",
    "(b) How much can $N$ be increased if the computation needs to be run in less than a second? What is the gain in running it for 1 minute? \n"
   ]
  },
  {
   "cell_type": "code",
   "execution_count": 2,
   "metadata": {},
   "outputs": [
    {
     "name": "stdout",
     "output_type": "stream",
     "text": [
      "Integral value: 0.0\n",
      "N: 1.00e+00\n",
      "Time execution: 6.9141387939453125e-06 s\n",
      "Error: 1.570796e+00 \n",
      "\n",
      "Integral value: 1.5185244144417753\n",
      "N: 1.00e+01\n",
      "Time execution: 1.5735626220703125e-05 s\n",
      "Error: 5.227191e-02 \n",
      "\n",
      "Integral value: 1.5691342555492498\n",
      "N: 1.00e+02\n",
      "Time execution: 8.726119995117188e-05 s\n",
      "Error: 1.662071e-03 \n",
      "\n",
      "Integral value: 1.570743738501071\n",
      "N: 1.00e+03\n",
      "Time execution: 0.0008771419525146484 s\n",
      "Error: 5.258829e-05 \n",
      "\n",
      "Integral value: 1.5707946637152863\n",
      "N: 1.00e+04\n",
      "Time execution: 0.006963014602661133 s\n",
      "Error: 1.663080e-06 \n",
      "\n",
      "Integral value: 1.5707962742034143\n",
      "N: 1.00e+05\n",
      "Time execution: 0.054205894470214844 s\n",
      "Error: 5.259148e-08 \n",
      "\n",
      "Integral value: 1.5707963251319348\n",
      "N: 1.00e+06\n",
      "Time execution: 0.3350181579589844 s\n",
      "Error: 1.662962e-09 \n",
      "\n",
      "Integral value: 1.570796326742408\n",
      "N: 1.00e+07\n",
      "Time execution: 3.962087869644165 s\n",
      "Error: 5.248846e-11 \n",
      "\n"
     ]
    }
   ],
   "source": [
    "import math\n",
    "import time\n",
    "def semicircl(x):\n",
    "    return (1-x**2)**(0.5)\n",
    "\n",
    "def integral(N,func):\n",
    "    y=0\n",
    "    for i in range(N):\n",
    "        y+=func(-1+i*(2/N))\n",
    "    return 2/N*y\n",
    "\n",
    "real_int=math.pi/2\n",
    "N=1\n",
    "i=0\n",
    "while True:\n",
    "    t_s=time.time()\n",
    "    pi_mez=integral(N,semicircl)\n",
    "    total_time=time.time() - t_s\n",
    "    err=abs(real_int-pi_mez)\n",
    "    print(\"Integral value: {}\".format(pi_mez))\n",
    "    print(\"N: %.2e\" %(N))\n",
    "    print(\"Time execution: %s s\" % (total_time))\n",
    "    print(\"Error: %5e\" %(err),\"\\n\")\n",
    "    if total_time < 1:\n",
    "        i+=1\n",
    "        N=10**i\n",
    "    else:\n",
    "        break"
   ]
  },
  {
   "cell_type": "code",
   "execution_count": null,
   "metadata": {},
   "outputs": [],
   "source": []
  }
 ],
 "metadata": {
  "kernelspec": {
   "display_name": "Python 3 (ipykernel)",
   "language": "python",
   "name": "python3"
  },
  "language_info": {
   "codemirror_mode": {
    "name": "ipython",
    "version": 3
   },
   "file_extension": ".py",
   "mimetype": "text/x-python",
   "name": "python",
   "nbconvert_exporter": "python",
   "pygments_lexer": "ipython3",
   "version": "3.10.7"
  }
 },
 "nbformat": 4,
 "nbformat_minor": 2
}
