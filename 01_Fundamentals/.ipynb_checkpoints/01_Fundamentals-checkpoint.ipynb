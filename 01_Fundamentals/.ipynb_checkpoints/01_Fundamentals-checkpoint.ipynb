{
 "cells": [
  {
   "cell_type": "markdown",
   "metadata": {},
   "source": [
    "# Modules/packages/libraries\n",
    "\n",
    "Definitions:\n",
    "\n",
    "  * Modules:\n",
    "  A module is a file which contains python functions, global variables etc. It is nothing but .py file which has python executable code / statement.\n",
    "\n",
    "  * Packages:\n",
    "  A package is a namespace which contains multiple package/modules. It is a directory which contains a special file `__init__.py`\n",
    "  \n",
    "  * Libraries:\n",
    "  A library is a collection of various packages. There is no difference between package and python library conceptually.\n",
    "  \n",
    "Modules/packages/libraries can be easily \"imported\" and made functional in your python code. A set of libriaries comes with every python installation. Others can be installed locally and then imported. Your own code sitting somewhere else in your local computer can be imported too.\n",
    "\n",
    "Further details (very important!) on packages and how to create them can be found online. We may find the need of creating our own during the course."
   ]
  },
  {
   "cell_type": "code",
   "execution_count": 1,
   "metadata": {},
   "outputs": [
    {
     "name": "stdout",
     "output_type": "stream",
     "text": [
      "3.141592653589793\n",
      "3.141592653589793\n",
      "3.141592653589793\n",
      "2.6457513110645907\n"
     ]
    }
   ],
   "source": [
    "# all the \"stuff\" that is in the math library can be used\n",
    "import math\n",
    "print(math.pi)\n",
    "\n",
    "# you can give math a label for convenience\n",
    "import math as m\n",
    "print (m.pi)\n",
    "\n",
    "# alternatively you can import only a given \"thing\" from the library\n",
    "from math import pi    #you can add several libraries at once, just list them separated by a \", \"\n",
    "print (pi)\n",
    "\n",
    "# or just get everything (very dangerous!!!)\n",
    "from math import *\n",
    "print (sqrt(7))"
   ]
  },
  {
   "cell_type": "markdown",
   "metadata": {},
   "source": [
    "To know which modules are there for you to use just type:"
   ]
  },
  {
   "cell_type": "code",
   "execution_count": 2,
   "metadata": {
    "scrolled": true
   },
   "outputs": [
    {
     "name": "stdout",
     "output_type": "stream",
     "text": [
      "\n",
      "Please wait a moment while I gather a list of all available modules...\n",
      "\n"
     ]
    },
    {
     "name": "stderr",
     "output_type": "stream",
     "text": [
      "/usr/local/Cellar/jupyterlab/3.4.8/libexec/lib/python3.10/site-packages/_distutils_hack/__init__.py:33: UserWarning: Setuptools is replacing distutils.\n",
      "  warnings.warn(\"Setuptools is replacing distutils.\")\n",
      "/usr/local/Cellar/python@3.10/3.10.7/Frameworks/Python.framework/Versions/3.10/lib/python3.10/pkgutil.py:107: VisibleDeprecationWarning: zmq.eventloop.minitornado is deprecated in pyzmq 14.0 and will be removed.\n",
      "    Install tornado itself to use zmq with the tornado IOLoop.\n",
      "    \n",
      "  yield from walk_packages(path, info.name+'.', onerror)\n",
      "/usr/local/Cellar/python@3.10/3.10.7/Frameworks/Python.framework/Versions/3.10/lib/python3.10/pkgutil.py:92: UserWarning: The numpy.array_api submodule is still experimental. See NEP 47.\n",
      "  __import__(info.name)\n"
     ]
    },
    {
     "name": "stdout",
     "output_type": "stream",
     "text": [
      "Welcome to JupyROOT 6.26/06\n",
      "DistRDF             cmd                 libPhysics          pip\n",
      "IPython             cmdLineUtils        libPostscript       pipes\n",
      "JsMVA               code                libProof            pkg_resources\n",
      "JupyROOT            codecs              libProofBench       pkgutil\n",
      "ROOT                codeop              libProofDraw        platform\n",
      "TBB                 collections         libProofPlayer      plistlib\n",
      "__future__          colorsys            libPyMVA            poplib\n",
      "_abc                compileall          libQuadp            posix\n",
      "_aix_support        concurrent          libRCsg             posixpath\n",
      "_argon2_cffi_bindings configparser        libRDAVIX           pprint\n",
      "_ast                contextlib          libRGL              profile\n",
      "_asyncio            contextvars         libRHTTP            prometheus_client\n",
      "_bisect             copy                libRHTTPSniff       prompt_toolkit\n",
      "_blake2             copyreg             libRIO              pstats\n",
      "_bootsubprocess     cppyy               libRMySQL           psutil\n",
      "_bz2                cppyy_backend       libROOTBranchBrowseProvider pty\n",
      "_cffi_backend       crypt               libROOTBrowsable    ptyprocess\n",
      "_codecs             csv                 libROOTBrowserGeomWidget pure_eval\n",
      "_codecs_cn          ctypes              libROOTBrowserRCanvasWidget pvectorc\n",
      "_codecs_hk          curses              libROOTBrowserTCanvasWidget pwd\n",
      "_codecs_iso2022     dataclasses         libROOTBrowserWidgets py_compile\n",
      "_codecs_jp          datetime            libROOTBrowserv7    pyclbr\n",
      "_codecs_kr          dateutil            libROOTCanvasPainter pycparser\n",
      "_codecs_tw          dbm                 libROOTDataFrame    pydoc\n",
      "_collections        debugpy             libROOTEve          pydoc_data\n",
      "_collections_abc    decimal             libROOTFitPanelv7   pyexpat\n",
      "_compat_pickle      decorator           libROOTGpadv7       pygments\n",
      "_compression        defusedxml          libROOTGraphicsPrimitives pygtkcompat\n",
      "_contextvars        difflib             libROOTHist         pyparsing\n",
      "_crypt              dis                 libROOTHistDraw     pyrsistent\n",
      "_csv                distutils           libROOTHistDrawProvider pytz\n",
      "_ctypes             doctest             libROOTLeafDraw6Provider queue\n",
      "_ctypes_test        email               libROOTLeafDraw7Provider quopri\n",
      "_curses             encodings           libROOTNTuple       random\n",
      "_curses_panel       ensurepip           libROOTNTupleBrowseProvider re\n",
      "_datetime           entrypoints         libROOTNTupleDraw6Provider readline\n",
      "_dbm                enum                libROOTNTupleDraw7Provider reprlib\n",
      "_decimal            errno               libROOTObjectDraw6Provider requests\n",
      "_distutils_hack     executing           libROOTObjectDraw7Provider resource\n",
      "_elementtree        fastjsonschema      libROOTPythonizations3_10 rlcompleter\n",
      "_functools          faulthandler        libROOTTMVASofie    runpy\n",
      "_gdbm               fcntl               libROOTTPython      sched\n",
      "_hashlib            filecmp             libROOTVecOps       secrets\n",
      "_heapq              fileinput           libROOTWebDisplay   select\n",
      "_imp                fnmatch             libRSQLite          selectors\n",
      "_io                 fractions           libRecorder         send2trash\n",
      "_json               ftplib              libRint             setuptools\n",
      "_locale             function            libRooBatchCompute  shelve\n",
      "_lsprof             functools           libRooBatchCompute_AVX shlex\n",
      "_lzma               gc                  libRooBatchCompute_AVX2 shutil\n",
      "_markupbase         genericpath         libRooBatchCompute_AVX512 signal\n",
      "_md5                getopt              libRooBatchCompute_GENERIC site\n",
      "_multibytecodec     getpass             libRooFit           sitecustomize\n",
      "_multiprocessing    gettext             libRooFitCommon     six\n",
      "_opcode             gi                  libRooFitCore       smtpd\n",
      "_operator           glob                libRooFitHS3        smtplib\n",
      "_osx_support        graphlib            libRooFitMore       sndhdr\n",
      "_pickle             grp                 libRooFitRDataFrameHelpers sniffio\n",
      "_posixshmem         gzip                libRooStats         socket\n",
      "_posixsubprocess    hashlib             libRootAuth         socketserver\n",
      "_py_abc             heapq               libSPlot            soupsieve\n",
      "_pydecimal          hmac                libSQLIO            sqlite3\n",
      "_pyio               html                libSessionViewer    sre_compile\n",
      "_pyrsistent_version http                libSmatrix          sre_constants\n",
      "_queue              idlelib             libSpectrum         sre_parse\n",
      "_random             idna                libSpectrumPainter  ssl\n",
      "_scproxy            imaplib             libSrvAuth          stack_data\n",
      "_sha1               imghdr              libTMVA             stat\n",
      "_sha256             imp                 libTMVAGui          statistics\n",
      "_sha3               importlib           libThread           string\n",
      "_sha512             inspect             libTree             stringprep\n",
      "_signal             io                  libTreePlayer       struct\n",
      "_sitebuiltins       ipaddress           libTreeViewer       subprocess\n",
      "_socket             ipykernel           libUnfold           sunau\n",
      "_sqlite3            ipykernel_launcher  libWebGui6          symtable\n",
      "_sre                ipython_genutils    libXMLIO            sys\n",
      "_ssl                itertools           libXMLParser        sysconfig\n",
      "_stat               jedi                libcomplexDict      syslog\n",
      "_statistics         jinja2              libcppyy3_10        tabnanny\n",
      "_string             json                libcppyy_backend3_10 tarfile\n",
      "_strptime           json5               libdequeDict        tbb\n",
      "_struct             jsonschema          libforward_listDict telnetlib\n",
      "_symtable           jupyter             liblistDict         tempfile\n",
      "_sysconfigdata__darwin_darwin jupyter_client      libmap2Dict         terminado\n",
      "_testbuffer         jupyter_console     libmapDict          termios\n",
      "_testcapi           jupyter_core        libmultimap2Dict    test\n",
      "_testimportmultiple jupyter_server      libmultimapDict     textwrap\n",
      "_testinternalcapi   jupyterlab          libmultisetDict     this\n",
      "_testmultiphase     jupyterlab_pygments libsetDict          threading\n",
      "_thread             jupyterlab_server   libunordered_mapDict time\n",
      "_threading_local    keyword             libunordered_multimapDict timeit\n",
      "_tracemalloc        lib2to3             libunordered_multisetDict tinycss2\n",
      "_uuid               libASImage          libunordered_setDict tkinter\n",
      "_warnings           libASImageGui       libvalarrayDict     token\n",
      "_weakref            libCling            libvectorDict       tokenize\n",
      "_weakrefset         libCore             linecache           tomli\n",
      "_xxsubinterpreters  libEG               locale              tornado\n",
      "_xxtestfuzz         libEve              logging             trace\n",
      "_zoneinfo           libFFTW             lzma                traceback\n",
      "abc                 libFITSIO           mailbox             tracemalloc\n",
      "aifc                libFTGL             mailcap             traitlets\n",
      "antigravity         libFitPanel         markupsafe          tty\n",
      "anyio               libFoam             marshal             turtle\n",
      "appnope             libFumili           math                turtledemo\n",
      "argon2              libGCocoa           matplotlib_inline   types\n",
      "argparse            libGQuartz          mimetypes           typing\n",
      "array               libGdml             mistune             unicodedata\n",
      "ast                 libGed              mmap                unittest\n",
      "asttokens           libGenVector        modulefinder        urllib\n",
      "asynchat            libGenetic          multiprocessing     urllib3\n",
      "asyncio             libGeom             nbclassic           uu\n",
      "asyncore            libGeomBuilder      nbclient            uuid\n",
      "atexit              libGeomPainter      nbconvert           venv\n",
      "attr                libGpad             nbformat            warnings\n",
      "attrs               libGraf             nest_asyncio        wave\n",
      "audioop             libGraf3d           netrc               wcwidth\n",
      "babel               libGui              nis                 weakref\n",
      "backcall            libGuiBld           nntplib             webbrowser\n",
      "base64              libGuiHtml          notebook            webencodings\n",
      "bdb                 libGviz3d           notebook_shim       websocket\n",
      "binascii            libHbook            ntpath              wheel\n",
      "binhex              libHist             nturl2path          wsgiref\n",
      "bisect              libHistFactory      numbers             xdrlib\n",
      "bleach              libHistPainter      numpy               xml\n",
      "bs4                 libHtml             opcode              xmlrpc\n",
      "builtins            libImt              operator            xxlimited\n",
      "bz2                 libJupyROOT3_10     optparse            xxlimited_35\n",
      "cProfile            libMLP              os                  xxsubtype\n",
      "cairo               libMathCore         packaging           zipapp\n",
      "calendar            libMathMore         pandocfilters       zipfile\n",
      "certifi             libMatrix           parso               zipimport\n",
      "cffi                libMinuit           pathlib             zlib\n",
      "cgi                 libMinuit2          pdb                 zmq\n",
      "cgitb               libMultiProc        pexpect             zoneinfo\n",
      "charset_normalizer  libNet              pickle              \n",
      "chunk               libNetxNG           pickleshare         \n",
      "cmath               libNew              pickletools         \n",
      "\n",
      "Enter any module name to get more help.  Or, type \"modules spam\" to search\n",
      "for modules whose name or summary contain the string \"spam\".\n",
      "\n",
      "None\n"
     ]
    }
   ],
   "source": [
    "print (help('modules') )\n"
   ]
  },
  {
   "cell_type": "markdown",
   "metadata": {},
   "source": [
    "`pip` is a special package. It is used from the command line to install properly (e.g. matching the version of the local packages) new packages. It can also be used from within python to check i.e. the set installed packages and their versions. N.B.: only the installed packages on top of the default ones will be listed "
   ]
  },
  {
   "cell_type": "code",
   "execution_count": 3,
   "metadata": {},
   "outputs": [
    {
     "ename": "AttributeError",
     "evalue": "module 'pip._internal.utils.misc' has no attribute 'get_installed_distributions'",
     "output_type": "error",
     "traceback": [
      "\u001b[0;31m---------------------------------------------------------------------------\u001b[0m",
      "\u001b[0;31mAttributeError\u001b[0m                            Traceback (most recent call last)",
      "Cell \u001b[0;32mIn [3], line 2\u001b[0m\n\u001b[1;32m      1\u001b[0m \u001b[38;5;28;01mimport\u001b[39;00m \u001b[38;5;21;01mpip\u001b[39;00m\n\u001b[0;32m----> 2\u001b[0m \u001b[38;5;28msorted\u001b[39m([\u001b[38;5;124m\"\u001b[39m\u001b[38;5;132;01m%s\u001b[39;00m\u001b[38;5;124m==\u001b[39m\u001b[38;5;132;01m%s\u001b[39;00m\u001b[38;5;124m\"\u001b[39m \u001b[38;5;241m%\u001b[39m (i\u001b[38;5;241m.\u001b[39mkey, i\u001b[38;5;241m.\u001b[39mversion) \u001b[38;5;28;01mfor\u001b[39;00m i \u001b[38;5;129;01min\u001b[39;00m pip\u001b[38;5;241m.\u001b[39m_internal\u001b[38;5;241m.\u001b[39mutils\u001b[38;5;241m.\u001b[39mmisc\u001b[38;5;241m.\u001b[39mget_installed_distributions()])\n",
      "\u001b[0;31mAttributeError\u001b[0m: module 'pip._internal.utils.misc' has no attribute 'get_installed_distributions'"
     ]
    }
   ],
   "source": [
    "import pip\n",
    "sorted([\"%s==%s\" % (i.key, i.version) for i in pip._internal.utils.misc.get_installed_distributions()])"
   ]
  },
  {
   "cell_type": "markdown",
   "metadata": {},
   "source": [
    "# Functions"
   ]
  },
  {
   "cell_type": "code",
   "execution_count": 4,
   "metadata": {},
   "outputs": [
    {
     "name": "stdout",
     "output_type": "stream",
     "text": [
      "9\n",
      "27\n",
      "cube 27\n",
      "square 9\n"
     ]
    }
   ],
   "source": [
    "def square(x):\n",
    "    \"\"\"Square of x.\"\"\"\n",
    "    return x*x\n",
    "\n",
    "def cube(x):\n",
    "    \"\"\"Cube of x.\"\"\"\n",
    "    return x*x*x\n",
    "\n",
    "# create a dictionary of functions\n",
    "funcs = {\n",
    "    'square': square,\n",
    "    'cube': cube,\n",
    "}\n",
    "\n",
    "x = 3\n",
    "print(square(x))\n",
    "print(cube(x))\n",
    "\n",
    "for func in sorted(funcs):\n",
    "    print (func, funcs[func](x))"
   ]
  },
  {
   "cell_type": "markdown",
   "metadata": {},
   "source": [
    "## Functions arguments"
   ]
  },
  {
   "cell_type": "markdown",
   "metadata": {},
   "source": [
    "What is passsed to a function is a copy of the input. Imagine we have a list *x =[1, 2, 3]*, i.e. a mutable object. If within the function the content of *x* is directly changed (e.g. *x[0] = 999*), then *x* changes outside the funciton as well. "
   ]
  },
  {
   "cell_type": "code",
   "execution_count": 4,
   "metadata": {},
   "outputs": [
    {
     "name": "stdout",
     "output_type": "stream",
     "text": [
      "[1, 2, 3]\n",
      "[999, 2, 3]\n",
      "[999, 2, 3]\n"
     ]
    }
   ],
   "source": [
    "def modify(x):\n",
    "    x[0] = 999\n",
    "    return x\n",
    "\n",
    "x = [1,2,3]\n",
    "print (x)\n",
    "print (modify(x))\n",
    "print (x)"
   ]
  },
  {
   "cell_type": "markdown",
   "metadata": {},
   "source": [
    "However, if *x* is reassigned within the function to a new object (e.g. another list), then the copy of the name *x* now points to the new object, but *x* outside the function is unhcanged."
   ]
  },
  {
   "cell_type": "code",
   "execution_count": 5,
   "metadata": {},
   "outputs": [
    {
     "name": "stdout",
     "output_type": "stream",
     "text": [
      "[1, 2, 3]\n",
      "[4, 5, 6]\n",
      "[1, 2, 3]\n"
     ]
    }
   ],
   "source": [
    "def no_modify(x):\n",
    "    x = [4,5,6]\n",
    "    return x\n",
    "\n",
    "x = [1,2,3]\n",
    "print (x)\n",
    "print (no_modify(x))\n",
    "print (x)\n"
   ]
  },
  {
   "cell_type": "markdown",
   "metadata": {},
   "source": [
    "What if the function tries to modify the value of an immutable object?"
   ]
  },
  {
   "cell_type": "markdown",
   "metadata": {},
   "source": [
    "Binding of default arguments occurs at function definition:"
   ]
  },
  {
   "cell_type": "code",
   "execution_count": 8,
   "metadata": {},
   "outputs": [
    {
     "name": "stdout",
     "output_type": "stream",
     "text": [
      "[1]\n",
      "[1, 1]\n",
      "[9, 9, 9, 1]\n",
      "[1, 1, 1]\n",
      "[1, 1, 1, 1]\n"
     ]
    }
   ],
   "source": [
    "def f(x = []):\n",
    "    x.append(1)\n",
    "    return x\n",
    "\n",
    "print (f())\n",
    "print (f())\n",
    "print (f(x = [9,9,9]))\n",
    "print (f())\n",
    "print (f())"
   ]
  },
  {
   "cell_type": "markdown",
   "metadata": {},
   "source": [
    "Try to avoid that!!"
   ]
  },
  {
   "cell_type": "code",
   "execution_count": 9,
   "metadata": {},
   "outputs": [
    {
     "name": "stdout",
     "output_type": "stream",
     "text": [
      "[1]\n",
      "[1]\n",
      "[9, 9, 9, 1]\n",
      "[1]\n",
      "[1]\n"
     ]
    }
   ],
   "source": [
    "def f(x = None):\n",
    "    if x is None:\n",
    "        x = []\n",
    "    x.append(1)\n",
    "    return x\n",
    "\n",
    "print (f())\n",
    "print (f())\n",
    "print (f(x = [9,9,9]))\n",
    "print (f())\n",
    "print (f())"
   ]
  },
  {
   "cell_type": "markdown",
   "metadata": {},
   "source": [
    "## Higher order functions\n",
    "\n",
    "A function that uses another function as an input argument or returns a function is known as a higher-order function (HOF). The most familiar examples are `map` and `filter`."
   ]
  },
  {
   "cell_type": "markdown",
   "metadata": {},
   "source": [
    "### map\n",
    "\n",
    "The map function applies a function to each member of a collection"
   ]
  },
  {
   "cell_type": "code",
   "execution_count": 11,
   "metadata": {},
   "outputs": [
    {
     "name": "stdout",
     "output_type": "stream",
     "text": [
      "[0, 1, 4, 9, 16]\n",
      "0\n",
      "1\n",
      "4\n",
      "9\n",
      "16\n"
     ]
    },
    {
     "data": {
      "text/plain": [
       "[0, 1, 4, 9, 16, 25]"
      ]
     },
     "execution_count": 11,
     "metadata": {},
     "output_type": "execute_result"
    }
   ],
   "source": [
    "x = list(map(square, range(5))) \n",
    "print (x)\n",
    "\n",
    "# Note the difference w.r.t python 2. In python 3 map retuns an iterator so you can do stuff like:\n",
    "for i in map(square,range(5)): print(i)\n",
    "\n",
    "# or\n",
    "[i for i in map(square,range(6))]"
   ]
  },
  {
   "cell_type": "markdown",
   "metadata": {},
   "source": [
    "### filter\n",
    "\n",
    "The filter function applies a predicate to each member of a collection, retaining only those members where the predicate is True"
   ]
  },
  {
   "cell_type": "code",
   "execution_count": 12,
   "metadata": {},
   "outputs": [
    {
     "name": "stdout",
     "output_type": "stream",
     "text": [
      "[0, 2, 4]\n"
     ]
    }
   ],
   "source": [
    "def is_even(x):\n",
    "    return x%2 == 0\n",
    "\n",
    "print (list(filter(is_even, range(5))))"
   ]
  },
  {
   "cell_type": "markdown",
   "metadata": {},
   "source": [
    "Combinations in sequence of HOF are obviously possible"
   ]
  },
  {
   "cell_type": "code",
   "execution_count": 13,
   "metadata": {},
   "outputs": [
    {
     "data": {
      "text/plain": [
       "[0, 4, 16]"
      ]
     },
     "execution_count": 13,
     "metadata": {},
     "output_type": "execute_result"
    }
   ],
   "source": [
    "list(map(square, filter(is_even, range(5))))"
   ]
  },
  {
   "cell_type": "markdown",
   "metadata": {},
   "source": [
    "### reduce\n",
    "\n",
    "The reduce function reduces a collection using a binary operator to combine items two at a time. More often than not reduce can be substituted with a more efficient for loop. It is worth mentioning it for its key role in big-data applications together with map (the map-reduce paradigm). \n",
    "N.B.: it no loger exist as built-in function in python 3, it is now part of the `functools` library"
   ]
  },
  {
   "cell_type": "code",
   "execution_count": 14,
   "metadata": {},
   "outputs": [
    {
     "data": {
      "text/plain": [
       "15"
      ]
     },
     "execution_count": 14,
     "metadata": {},
     "output_type": "execute_result"
    }
   ],
   "source": [
    "from functools import reduce\n",
    "\n",
    "def my_add(x, y):\n",
    "    return x + y\n",
    "\n",
    "# another implementation of the sum function\n",
    "reduce(my_add, [1,2,3,4,5])"
   ]
  },
  {
   "cell_type": "markdown",
   "metadata": {},
   "source": [
    "### zip\n",
    "\n",
    "zip is useful when you need to iterate over matched elements of multiple lists"
   ]
  },
  {
   "cell_type": "code",
   "execution_count": 15,
   "metadata": {},
   "outputs": [
    {
     "name": "stdout",
     "output_type": "stream",
     "text": [
      "1 10 a\n",
      "2 20 b\n",
      "3 30 c\n",
      "4 40 d\n"
     ]
    }
   ],
   "source": [
    "xs = [1, 2, 3, 4]\n",
    "ys = [10, 20, 30, 40]\n",
    "zs = ['a', 'b', 'c', 'd', 'e']\n",
    "\n",
    "for x, y, z in zip(xs, ys, zs):\n",
    "    print (x, y, z)"
   ]
  },
  {
   "cell_type": "markdown",
   "metadata": {},
   "source": [
    "### Custom HOF"
   ]
  },
  {
   "cell_type": "code",
   "execution_count": 5,
   "metadata": {},
   "outputs": [
    {
     "name": "stdout",
     "output_type": "stream",
     "text": [
      "30\n",
      "100\n"
     ]
    }
   ],
   "source": [
    "def custom_sum(xs, transform):\n",
    "    \"\"\"Returns the sum of xs after a user specified transform.\"\"\"\n",
    "    return sum(map(transform, xs))\n",
    "\n",
    "xs = range(5)\n",
    "print (custom_sum(xs, square))\n",
    "print (custom_sum(xs, cube))\n",
    "\n"
   ]
  },
  {
   "cell_type": "markdown",
   "metadata": {},
   "source": [
    "### Returning a function"
   ]
  },
  {
   "cell_type": "code",
   "execution_count": 6,
   "metadata": {},
   "outputs": [],
   "source": [
    "def make_logger(target):\n",
    "    def logger(data):\n",
    "        with open(target, 'a') as f:\n",
    "            f.write(data + '\\n')\n",
    "    return logger\n",
    "\n",
    "foo_logger = make_logger('foo.txt') #foo.txt will be created if not there already\n",
    "foo_logger('Hello')\n",
    "foo_logger('World')"
   ]
  },
  {
   "cell_type": "code",
   "execution_count": 7,
   "metadata": {},
   "outputs": [
    {
     "name": "stdout",
     "output_type": "stream",
     "text": [
      "Hello\r\n",
      "World\r\n"
     ]
    }
   ],
   "source": [
    "! cat 'foo.txt'"
   ]
  },
  {
   "cell_type": "markdown",
   "metadata": {},
   "source": [
    "## Anonimous functions (lambda)\n",
    "\n",
    "When using functional style, there is often the need to create specific functions that perform a limited task as input to a HOF such as map or filter. In such cases, these functions are often written as anonymous or lambda functions. \n",
    "The syntax is as follows:\n",
    "\n",
    "lambda *arguments* : *expression*\n",
    "\n",
    "\n",
    "If you find it hard to understand what a lambda function is doing, it should probably be rewritten as a regular function."
   ]
  },
  {
   "cell_type": "code",
   "execution_count": 19,
   "metadata": {},
   "outputs": [
    {
     "data": {
      "text/plain": [
       "7"
      ]
     },
     "execution_count": 19,
     "metadata": {},
     "output_type": "execute_result"
    }
   ],
   "source": [
    "sum_ = lambda x,y: x+y\n",
    "sum_(3,4)"
   ]
  },
  {
   "cell_type": "code",
   "execution_count": 20,
   "metadata": {},
   "outputs": [
    {
     "data": {
      "text/plain": [
       "7"
      ]
     },
     "execution_count": 20,
     "metadata": {},
     "output_type": "execute_result"
    }
   ],
   "source": [
    "(lambda x,y: x+y)(3,4)        #lambda is a function"
   ]
  },
  {
   "cell_type": "code",
   "execution_count": 21,
   "metadata": {},
   "outputs": [
    {
     "name": "stdout",
     "output_type": "stream",
     "text": [
      "0\n",
      "1\n",
      "4\n",
      "9\n",
      "16\n"
     ]
    }
   ],
   "source": [
    "for i in map(lambda x: x*x, range(5)): print (i)"
   ]
  },
  {
   "cell_type": "code",
   "execution_count": 22,
   "metadata": {},
   "outputs": [
    {
     "name": "stdout",
     "output_type": "stream",
     "text": [
      "285\n"
     ]
    }
   ],
   "source": [
    "# what does this function do?\n",
    "from functools import reduce\n",
    "s1 = reduce(lambda x, y: x+y, map(lambda x: x**2, range(1,10)))\n",
    "print(s1)\n",
    "\n",
    "#crea una lista di quadrati (da 1 a 9) e poi li somma\n"
   ]
  },
  {
   "cell_type": "markdown",
   "metadata": {},
   "source": [
    "## Recursive functions "
   ]
  },
  {
   "cell_type": "code",
   "execution_count": 12,
   "metadata": {},
   "outputs": [
    {
     "name": "stdout",
     "output_type": "stream",
     "text": [
      "[1, 1, 2, 3, 5, 8, 13, 21, 34, 55]\n"
     ]
    }
   ],
   "source": [
    "def fib1(n):\n",
    "    \"\"\"Fib with recursion.\"\"\"\n",
    "\n",
    "    # base case\n",
    "    if n==0 or n==1:\n",
    "        return 1\n",
    "    # recursive case\n",
    "    else:\n",
    "        return fib1(n-1) + fib1(n-2)\n",
    "\n",
    "    \n",
    "print ([fib1(i) for i in range(10)])"
   ]
  },
  {
   "cell_type": "code",
   "execution_count": 13,
   "metadata": {},
   "outputs": [
    {
     "name": "stdout",
     "output_type": "stream",
     "text": [
      "[1, 1, 2, 3, 5, 8, 13, 21, 34, 55]\n"
     ]
    }
   ],
   "source": [
    "# In Python, a more efficient version that does not use recursion is\n",
    "\n",
    "def fib2(n):\n",
    "    \"\"\"Fib without recursion.\"\"\"\n",
    "    a, b = 0, 1\n",
    "    for i in range(1, n+1):\n",
    "        a, b = b, a+b\n",
    "    return b\n",
    "print ([fib2(i) for i in range(10)])"
   ]
  },
  {
   "cell_type": "code",
   "execution_count": 14,
   "metadata": {},
   "outputs": [
    {
     "name": "stdout",
     "output_type": "stream",
     "text": [
      "2.92 ms ± 545 µs per loop (mean ± std. dev. of 7 runs, 100 loops each)\n",
      "1.31 µs ± 109 ns per loop (mean ± std. dev. of 7 runs, 1,000,000 loops each)\n"
     ]
    }
   ],
   "source": [
    "# check indeed the timing:\n",
    "\n",
    "%timeit fib1(20)\n",
    "%timeit fib2(20)\n"
   ]
  },
  {
   "cell_type": "markdown",
   "metadata": {},
   "source": [
    "## Iterators\n",
    "\n",
    "Iterators represent streams of values. Because only one value is consumed at a time, they use very little memory. Use of iterators is very helpful for working with data sets too large to fit into RAM."
   ]
  },
  {
   "cell_type": "code",
   "execution_count": 16,
   "metadata": {},
   "outputs": [
    {
     "name": "stdout",
     "output_type": "stream",
     "text": [
      "1\n",
      "2\n",
      "3\n"
     ]
    }
   ],
   "source": [
    "# Iterators can be created from sequences with the built-in function iter()\n",
    "\n",
    "xs = [1,2,3]\n",
    "x_iter = iter(xs)\n",
    "\n",
    "print (next(x_iter))\n",
    "print (next(x_iter))\n",
    "print (next(x_iter))"
   ]
  },
  {
   "cell_type": "code",
   "execution_count": 19,
   "metadata": {},
   "outputs": [
    {
     "name": "stdout",
     "output_type": "stream",
     "text": [
      "1\n",
      "2\n",
      "3\n"
     ]
    }
   ],
   "source": [
    "# Most commonly, iterators are used (automatically) within a for loop\n",
    "# which terminates when it encouters a StopIteration exception\n",
    "\n",
    "x_iter = iter(xs)\n",
    "for x in x_iter:\n",
    "    print (x)"
   ]
  },
  {
   "cell_type": "markdown",
   "metadata": {},
   "source": [
    "## More on comprehensions"
   ]
  },
  {
   "cell_type": "code",
   "execution_count": 24,
   "metadata": {},
   "outputs": [
    {
     "name": "stdout",
     "output_type": "stream",
     "text": [
      "<generator object <genexpr> at 0x14d0231b0>\n",
      "[0, 1, 2, 3, 4, 5, 6, 7, 8, 9]\n",
      "{0, 1, 2, 3, 4, 5, 6, 7, 8, 9}\n",
      "{0: '0', 1: '1', 2: '2', 3: '3', 4: '4', 5: '5', 6: '6', 7: '7', 8: '8', 9: '9'}\n"
     ]
    }
   ],
   "source": [
    "# A generator expression\n",
    "\n",
    "print ((x for x in range(10)))\n",
    "\n",
    "# A list comprehension\n",
    "\n",
    "print ([x for x in range(10)])\n",
    "\n",
    "# A set comprehension\n",
    "\n",
    "print ({x for x in range(10)})\n",
    "\n",
    "# A dictionary comprehension\n",
    "\n",
    "print ({x: \"{}\".format(x) for x in range(10)})"
   ]
  },
  {
   "cell_type": "markdown",
   "metadata": {},
   "source": [
    "## Useful Modules\n",
    "\n",
    "You may want to have a look at the content of the following modules for further usage of (HO) functions:\n",
    "  - [operator](https://docs.python.org/3/library/operator.html)\n",
    "  - [functools](https://docs.python.org/3/library/functools.html)\n",
    "  - [itertools](https://docs.python.org/3/library/itertools.html)\n",
    "  - [toolz](https://pypi.org/project/toolz/)\n",
    "  - [funcy](https://pypi.org/project/funcy/)"
   ]
  },
  {
   "cell_type": "markdown",
   "metadata": {},
   "source": [
    "## Decorators\n",
    "\n",
    "Decorators are a type of HOF that take a function and return a wrapped function that provides additional useful properties.\n",
    "\n",
    "Examples:\n",
    "\n",
    "  - logging\n",
    "  - profiling\n",
    "  - Just-In-Time (JIT) compilation"
   ]
  },
  {
   "cell_type": "code",
   "execution_count": 29,
   "metadata": {},
   "outputs": [],
   "source": [
    "def my_decorator(func):\n",
    "    def wrapper():\n",
    "        print(\"Something is happening before the function is called.\")\n",
    "        func()\n",
    "        print(\"Something is happening after the function is called.\")\n",
    "    return wrapper\n",
    "\n",
    "def say_whee():\n",
    "    print(\"Whee!\")\n",
    "\n",
    "say_whee = my_decorator(say_whee)"
   ]
  },
  {
   "cell_type": "code",
   "execution_count": 30,
   "metadata": {},
   "outputs": [
    {
     "name": "stdout",
     "output_type": "stream",
     "text": [
      "Something is happening before the function is called.\n",
      "Whee!\n",
      "Something is happening after the function is called.\n"
     ]
    }
   ],
   "source": [
    "say_whee()"
   ]
  },
  {
   "cell_type": "markdown",
   "metadata": {},
   "source": [
    "Python allows you to use decorators in a simpler way with the @ symbol, sometimes called the “pie” syntax"
   ]
  },
  {
   "cell_type": "code",
   "execution_count": 36,
   "metadata": {},
   "outputs": [],
   "source": [
    "def my_decorator(func):\n",
    "    def wrapper():\n",
    "        print(\"Something is happening before the function is called.\")\n",
    "        func()\n",
    "        print(\"Something is happening after the function is called.\")\n",
    "    return wrapper\n",
    "\n",
    "@my_decorator\n",
    "def say_whee():\n",
    "    print(\"Whee!\")"
   ]
  },
  {
   "cell_type": "code",
   "execution_count": 37,
   "metadata": {},
   "outputs": [
    {
     "name": "stdout",
     "output_type": "stream",
     "text": [
      "Something is happening before the function is called.\n",
      "Whee!\n",
      "Something is happening after the function is called.\n"
     ]
    }
   ],
   "source": [
    "say_whee()"
   ]
  },
  {
   "cell_type": "markdown",
   "metadata": {},
   "source": [
    "# Classes and Objects\n",
    "\n",
    "Old school object-oriented programming is possible and often used in python. Classes are defined similarly to standard object-oriented languages, with similar functionalities.\n",
    "\n",
    "The main python doc [page](https://docs.python.org/3/tutorial/classes.html) is worth reading through "
   ]
  },
  {
   "cell_type": "code",
   "execution_count": 26,
   "metadata": {},
   "outputs": [
    {
     "name": "stdout",
     "output_type": "stream",
     "text": [
      "buddy 12\n",
      "buddy 3\n"
     ]
    }
   ],
   "source": [
    "class Pet:\n",
    "    # the \"constructor\"\n",
    "    def __init__(self, name, age):  #inizialize the elements of the class\n",
    "        self.name=name\n",
    "        self.age=age\n",
    "    # class functions take the \"self\" parameter !!!\n",
    "    def set_name(self,name):\n",
    "        self.name=name\n",
    "    def convert_age(self,factor):\n",
    "        self.age*=factor\n",
    "\n",
    "buddy=Pet(\"buddy\",12)\n",
    "print (buddy.name, buddy.age)\n",
    "buddy.age=3\n",
    "print (buddy.name, buddy.age)\n",
    "\n"
   ]
  },
  {
   "cell_type": "code",
   "execution_count": 29,
   "metadata": {},
   "outputs": [
    {
     "name": "stdout",
     "output_type": "stream",
     "text": [
      "tobia 10\n",
      "tobia 70\n"
     ]
    }
   ],
   "source": [
    "# ineritance is straightforward\n",
    "class Dog(Pet):\n",
    "    # the following variables is \"global\", i.e. holds for all \"Dog\" objects\n",
    "    species = \"mammal\"\n",
    "    # functions can be redefined as usual\n",
    "    def convert_age(self):\n",
    "        self.age*=7\n",
    "    def set_species(self, species):\n",
    "        self.species = species\n",
    "        \n",
    "puppy=Dog(\"tobia\",10)\n",
    "\n",
    "print (puppy.name, puppy.age)\n",
    "puppy.convert_age()\n",
    "print (puppy.name, puppy.age)\n",
    "\n"
   ]
  },
  {
   "cell_type": "code",
   "execution_count": null,
   "metadata": {},
   "outputs": [],
   "source": []
  }
 ],
 "metadata": {
  "kernelspec": {
   "display_name": "Python 3 (ipykernel)",
   "language": "python",
   "name": "python3"
  },
  "language_info": {
   "codemirror_mode": {
    "name": "ipython",
    "version": 3
   },
   "file_extension": ".py",
   "mimetype": "text/x-python",
   "name": "python",
   "nbconvert_exporter": "python",
   "pygments_lexer": "ipython3",
   "version": "3.9.13"
  }
 },
 "nbformat": 4,
 "nbformat_minor": 2
}
