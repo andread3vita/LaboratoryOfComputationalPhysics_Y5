{
 "cells": [
  {
   "cell_type": "markdown",
   "metadata": {},
   "source": [
    "0\\. Implement a function (whatever you want) and save it to a file (e.g. `function.py`). Import that file and use that function in this notebook.\n"
   ]
  },
  {
   "cell_type": "code",
   "execution_count": 1,
   "metadata": {},
   "outputs": [
    {
     "name": "stdout",
     "output_type": "stream",
     "text": [
      "12\n"
     ]
    }
   ],
   "source": [
    "from function import myfunc\n",
    "\n",
    "print(myfunc(5))"
   ]
  },
  {
   "cell_type": "markdown",
   "metadata": {},
   "source": [
    "1\\. Write the following as a list comprehension"
   ]
  },
  {
   "cell_type": "code",
   "execution_count": 2,
   "metadata": {},
   "outputs": [
    {
     "name": "stdout",
     "output_type": "stream",
     "text": [
      "[(0, 0), (0, 1), (0, 2), (0, 3), (1, 0), (1, 1), (1, 2), (1, 3), (2, 0), (2, 1), (2, 2), (2, 3)]\n",
      "[0, 4, 16]\n"
     ]
    }
   ],
   "source": [
    "# 1\n",
    "ans = []\n",
    "for i in range(3):\n",
    "    for j in range(4):\n",
    "        ans.append((i, j))\n",
    "print (ans)\n",
    "\n",
    "# 2\n",
    "ans2 = map(lambda x: x*x, filter(lambda x: x%2 == 0, range(5)))\n",
    "print (list(ans2))"
   ]
  },
  {
   "cell_type": "code",
   "execution_count": 3,
   "metadata": {},
   "outputs": [
    {
     "name": "stdout",
     "output_type": "stream",
     "text": [
      "[(0, 0), (0, 1), (0, 2), (0, 3), (1, 0), (1, 1), (1, 2), (1, 3), (2, 0), (2, 1), (2, 2), (2, 3)]\n",
      "[0, 4, 16]\n"
     ]
    }
   ],
   "source": [
    "ans3=[(i,j) for i in range(3) for j in range(4)]\n",
    "print(ans3)\n",
    "\n",
    "ans4=[x**2 for x in range(5) if x%2 == 0]\n",
    "print(ans4)"
   ]
  },
  {
   "cell_type": "markdown",
   "metadata": {},
   "source": [
    "2\\. Convert the following function into a pure function with no global variables or side effects"
   ]
  },
  {
   "cell_type": "code",
   "execution_count": 1,
   "metadata": {},
   "outputs": [
    {
     "name": "stdout",
     "output_type": "stream",
     "text": [
      "[1, 2, 3, 0, 1, 2, 3, 4]\n",
      "[1, 2, 3, 0, 1, 2, 3, 4]\n"
     ]
    }
   ],
   "source": [
    "x = 5\n",
    "def f(alist):\n",
    "    for i in range(x):\n",
    "         alist.append(i)\n",
    "    return alist\n",
    "\n",
    "alist = [1,2,3]\n",
    "ans = f(alist)\n",
    "print (ans)\n",
    "print (alist) # alist has been changed!"
   ]
  },
  {
   "cell_type": "code",
   "execution_count": 7,
   "metadata": {},
   "outputs": [
    {
     "name": "stdout",
     "output_type": "stream",
     "text": [
      "[1, 2, 3, 0, 1, 2, 3, 4] [1, 2, 3]\n"
     ]
    }
   ],
   "source": [
    "def f(alist,x):\n",
    "    temp=[alist[i] for i in range(len(alist))]\n",
    "    for i in range(x):\n",
    "        temp.append(i)\n",
    "    return temp\n",
    "\n",
    "lista=[1,2,3]\n",
    "ciao=f(lista,5)\n",
    "print(ciao,lista)"
   ]
  },
  {
   "cell_type": "markdown",
   "metadata": {},
   "source": [
    "3\\. Write a `decorator` hello that makes every wrapped function print “Hello!”, i.e. something like:\n",
    "\n",
    "```python\n",
    "@hello\n",
    "def square(x):\n",
    "    return x*x\n",
    "```\n",
    "\n"
   ]
  },
  {
   "cell_type": "code",
   "execution_count": 3,
   "metadata": {},
   "outputs": [
    {
     "name": "stdout",
     "output_type": "stream",
     "text": [
      "Hello!\n",
      "27\n",
      "Hello!\n"
     ]
    }
   ],
   "source": [
    "def hello_decorator(func):\n",
    "    def hello_wrapper(*args, **kwargs):\n",
    "        print(\"Hello!\")\n",
    "        func(*args, **kwargs)\n",
    "        print(\"Hello!\")\n",
    "    return hello_wrapper\n",
    "\n",
    "@hello_decorator\n",
    "def cube(x):\n",
    "    print(x**3)\n",
    "\n",
    "cube(3)"
   ]
  },
  {
   "cell_type": "markdown",
   "metadata": {},
   "source": [
    "4\\. Write the factorial function so that it a) does and b) does not use recursion."
   ]
  },
  {
   "cell_type": "code",
   "execution_count": 5,
   "metadata": {},
   "outputs": [
    {
     "name": "stdout",
     "output_type": "stream",
     "text": [
      "651 ns ± 52.1 ns per loop (mean ± std. dev. of 7 runs, 1000000 loops each)\n",
      "120\n",
      "538 ns ± 28.3 ns per loop (mean ± std. dev. of 7 runs, 1000000 loops each)\n",
      "120\n"
     ]
    }
   ],
   "source": [
    "#using a recursive function\n",
    "def factorial1(n):\n",
    "    if n>1:\n",
    "        return n*factorial1(n-1)\n",
    "    elif n==1:\n",
    "        return 1\n",
    "    else:\n",
    "        print(\"n should be bigger than 0\")\n",
    "        pass\n",
    "\n",
    "#using a nested for loop\n",
    "def factorial2(n):\n",
    "    if n>=1:\n",
    "        temp=1\n",
    "        for i in range(1,n+1):\n",
    "            temp*=i\n",
    "        return temp\n",
    "    else:\n",
    "        print(\"n should be bigger than 0\")\n",
    "        pass\n",
    "    \n",
    "%timeit factorial1(5)\n",
    "print(factorial1(5))\n",
    "\n",
    "%timeit factorial2(5)\n",
    "print(factorial2(5))"
   ]
  },
  {
   "cell_type": "markdown",
   "metadata": {},
   "source": [
    "5\\. Use HOFs (zip in particular) to compute the weight of a circle, a disk and a sphere, assuming different radii and different densities:\n",
    "\n",
    "```python\n",
    "densities = {\"Al\":[0.5,1,2],\"Fe\":[3,4,5],\"Pb\": [15,20,30]}\n",
    "radii = [1,2,3]\n",
    "```\n",
    "\n",
    "where the entries of the dictionary's values are the linear, superficial and volumetric densities of the materials respectively.\n",
    "\n",
    "In particular define a list of three lambda functions using a comprehension that computes the circumference, the area and the volume for a given radius.\n"
   ]
  },
  {
   "cell_type": "code",
   "execution_count": 6,
   "metadata": {},
   "outputs": [
    {
     "name": "stdout",
     "output_type": "stream",
     "text": [
      "\n",
      "Material: Al \n",
      "\n",
      "Circle:\t Weights: [3.141592653589793, 6.283185307179586, 9.42477796076938]\n",
      "Disk:\t Weights: [3.141592653589793, 12.566370614359172, 28.274333882308138]\n",
      "Sphere:\t Weights: [8.377580409572781, 67.02064327658225, 226.19467105846508]\n",
      "\n",
      "Material: Fe \n",
      "\n",
      "Circle:\t Weights: [18.84955592153876, 37.69911184307752, 56.548667764616276]\n",
      "Disk:\t Weights: [12.566370614359172, 50.26548245743669, 113.09733552923255]\n",
      "Sphere:\t Weights: [20.94395102393195, 167.5516081914556, 565.4866776461627]\n",
      "\n",
      "Material: Pb \n",
      "\n",
      "Circle:\t Weights: [94.24777960769379, 188.49555921538757, 282.7433388230814]\n",
      "Disk:\t Weights: [62.83185307179586, 251.32741228718345, 565.4866776461628]\n",
      "Sphere:\t Weights: [125.66370614359171, 1005.3096491487337, 3392.920065876976]\n"
     ]
    }
   ],
   "source": [
    "import math\n",
    "\n",
    "densities = {\"Al\":[0.5,1,2],\"Fe\":[3,4,5],\"Pb\": [15,20,30]}\n",
    "radii = [1,2,3]\n",
    "\n",
    "fact=[2*math.pi, math.pi, 4/3*math.pi]\n",
    "exp=[1,2,3]\n",
    "\n",
    "calculators=[lambda r, f=fa, e=ex: f*r**e for f,e in zip(fact,exp)]\n",
    "\n",
    "for material in densities:\n",
    "    print(\"\\nMaterial:\", material,\"\\n\")\n",
    "    for i,[d, c] in enumerate(zip(densities[material], calculators)):\n",
    "        if i == 0:\n",
    "            print(\"Circle:\\t\", \"Weights:\", [d*c(r) for r in radii])\n",
    "        elif i == 1:\n",
    "            print(\"Disk:\\t\", \"Weights:\", [d*c(r) for r in radii])\n",
    "        else:\n",
    "            print(\"Sphere:\\t\", \"Weights:\", [d*c(r) for r in radii])"
   ]
  },
  {
   "cell_type": "markdown",
   "metadata": {},
   "source": [
    "6\\. Edit the class defintion to add an instance attribute of is_hungry = True to the Dog class. Then add a method called eat() which changes the value of is_hungry to False when called. Figure out the best way to feed each dog and then output “My dogs are hungry.” if all are hungry or “My dogs are not hungry.” if all are not hungry. The final output should look like this:\n",
    "\n",
    "`I have 3 dogs. \n",
    "Tom is 6. \n",
    "Fletcher is 7. \n",
    "Larry is 9. \n",
    "And they're all mammals, of course. \n",
    "My dogs are not hungry.\n",
    "`\n",
    "\n",
    "```python\n",
    "# Parent class\n",
    "class Dog:\n",
    "\n",
    "    # Class attribute\n",
    "    species = 'mammal'\n",
    "\n",
    "    # Initializer / Instance attributes\n",
    "    def __init__(self, name, age):\n",
    "        self.name = name\n",
    "        self.age = age\n",
    "\n",
    "    # instance method\n",
    "    def description(self):\n",
    "        return \"{} is {} years old\".format(self.name, self.age)\n",
    "\n",
    "    # instance method\n",
    "    def speak(self, sound):\n",
    "        return \"{} says {}\".format(self.name, sound)\n",
    "\n",
    "# Child class (inherits from Dog class)\n",
    "class RussellTerrier(Dog):\n",
    "    def run(self, speed):\n",
    "        return \"{} runs {}\".format(self.name, speed)\n",
    "\n",
    "# Child class (inherits from Dog class)\n",
    "class Bulldog(Dog):\n",
    "    def run(self, speed):\n",
    "        return \"{} runs {}\".format(self.name, speed)\n",
    "```"
   ]
  },
  {
   "cell_type": "code",
   "execution_count": 1,
   "metadata": {},
   "outputs": [
    {
     "name": "stdout",
     "output_type": "stream",
     "text": [
      "I have 2 dogs\n",
      "Tobia is 12 years old\n",
      "Cacatua is 13 years old\n",
      "My dogs are hungry\n",
      "I'm feeding Tobia \n",
      "I'm feeding Cacatua \n",
      "My dogs are not hungry\n"
     ]
    }
   ],
   "source": [
    "class Dog:\n",
    "\n",
    "    # Class attribute\n",
    "    species = 'mammal'\n",
    "    counter = 0\n",
    "    dogs_ref=[]\n",
    "    \n",
    "    def how_many():    #mi serve per contare quanti cani ci sono\n",
    "        print(\"I have {} dogs\".format(Dog.counter))\n",
    "    \n",
    "    def hunger():     #mi serve per verificare che i cani abbiano fame o meno\n",
    "        if all([dog.is_hungry for dog in Dog.dogs_ref]):\n",
    "            print(\"My dogs are hungry\")\n",
    "        if all([not dog.is_hungry for dog in Dog.dogs_ref]):\n",
    "            print(\"My dogs are not hungry\")\n",
    "\n",
    "    # Initializer / Instance attributes\n",
    "    def __init__(self, name, age, is_hungry=True):\n",
    "        self.name = name\n",
    "        self.age = age\n",
    "        self.is_hungry = is_hungry\n",
    "        Dog.counter+=1\n",
    "        self.id=Dog.counter\n",
    "        Dog.dogs_ref.append(self)\n",
    "\n",
    "    # instance method\n",
    "    def description(self):\n",
    "        print (\"{} is {} years old\".format(self.name, self.age))\n",
    "\n",
    "    # instance method\n",
    "    def speak(self, sound):\n",
    "        print (\"{} says {}\".format(self.name, sound))\n",
    "    \n",
    "    def eat(self):\n",
    "        self.is_hungry=False\n",
    "        print(\"I'm feeding {} \".format(self.name))\n",
    "    \n",
    "\n",
    "# Child class (inherits from Dog class)\n",
    "class RussellTerrier(Dog):\n",
    "    def run(self, speed):\n",
    "        return \"{} runs {}\".format(self.name, speed)\n",
    "\n",
    "# Child class (inherits from Dog class)\n",
    "class Bulldog(Dog):\n",
    "    def run(self, speed):\n",
    "        return \"{} runs {}\".format(self.name, speed)\n",
    "    \n",
    "\n",
    "buddy1=Dog(\"Tobia\",12)\n",
    "buddy2=Dog(\"Cacatua\",13)\n",
    "Dog.how_many()\n",
    "\n",
    "buddy1.description()\n",
    "buddy2.description()\n",
    "\n",
    "Dog.hunger()\n",
    "\n",
    "for dog in Dog.dogs_ref:\n",
    "    dog.eat()\n",
    "    \n",
    "Dog.hunger()"
   ]
  },
  {
   "cell_type": "code",
   "execution_count": null,
   "metadata": {},
   "outputs": [],
   "source": []
  }
 ],
 "metadata": {
  "kernelspec": {
   "display_name": "Python 3 (ipykernel)",
   "language": "python",
   "name": "python3"
  },
  "language_info": {
   "codemirror_mode": {
    "name": "ipython",
    "version": 3
   },
   "file_extension": ".py",
   "mimetype": "text/x-python",
   "name": "python",
   "nbconvert_exporter": "python",
   "pygments_lexer": "ipython3",
   "version": "3.9.13"
  }
 },
 "nbformat": 4,
 "nbformat_minor": 2
}
