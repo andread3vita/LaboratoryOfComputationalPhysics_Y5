{
 "cells": [
  {
   "cell_type": "markdown",
   "metadata": {},
   "source": [
    "1. The MickeyMouse problem\n",
    "\n",
    "a) Write a program that prints the numbers from 1 to 100. But for multiples of 3 print `Mickey` instead of the corresponding number and for the multiples of 5 print `Mouse`. For numbers which are multiples of both three and five print `MickeyMouse`\n",
    "\n",
    "b) Put the result in a tuple and substitute `Mickey` with `Donald` and `Mouse` with `Duck`"
   ]
  },
  {
   "cell_type": "code",
   "execution_count": 1,
   "metadata": {},
   "outputs": [
    {
     "name": "stdout",
     "output_type": "stream",
     "text": [
      "[1, 2, 'Mickey', 4, 'Mouse', 'Mickey', 7, 8, 'Mickey', 'Mouse', 11, 'Mickey', 13, 14, 'MickeyMouse', 16, 17, 'Mickey', 19, 'Mouse', 'Mickey', 22, 23, 'Mickey', 'Mouse', 26, 'Mickey', 28, 29, 'MickeyMouse', 31, 32, 'Mickey', 34, 'Mouse', 'Mickey', 37, 38, 'Mickey', 'Mouse', 41, 'Mickey', 43, 44, 'MickeyMouse', 46, 47, 'Mickey', 49, 'Mouse', 'Mickey', 52, 53, 'Mickey', 'Mouse', 56, 'Mickey', 58, 59, 'MickeyMouse', 61, 62, 'Mickey', 64, 'Mouse', 'Mickey', 67, 68, 'Mickey', 'Mouse', 71, 'Mickey', 73, 74, 'MickeyMouse', 76, 77, 'Mickey', 79, 'Mouse', 'Mickey', 82, 83, 'Mickey', 'Mouse', 86, 'Mickey', 88, 89, 'MickeyMouse', 91, 92, 'Mickey', 94, 'Mouse', 'Mickey', 97, 98, 'Mickey', 'Mouse']\n"
     ]
    }
   ],
   "source": [
    "a = []\n",
    "for i in range(1,101):\n",
    "    if i%5 == 0 and i%3 == 0:\n",
    "        i=\"MickeyMouse\"\n",
    "    elif i%5 == 0:\n",
    "        i=\"Mouse\"\n",
    "    elif i%3 == 0:\n",
    "        i=\"Mickey\"\n",
    "    a.append(i)\n",
    "print(a)"
   ]
  },
  {
   "cell_type": "code",
   "execution_count": 2,
   "metadata": {},
   "outputs": [
    {
     "name": "stdout",
     "output_type": "stream",
     "text": [
      "[1, 2, 'Mickey', 4, 'Mouse', 'Mickey', 7, 8, 'Mickey', 'Mouse', 11, 'Mickey', 13, 14, 'MickeyMouse', 16, 17, 'Mickey', 19, 'Mouse', 'Mickey', 22, 23, 'Mickey', 'Mouse', 26, 'Mickey', 28, 29, 'MickeyMouse', 31, 32, 'Mickey', 34, 'Mouse', 'Mickey', 37, 38, 'Mickey', 'Mouse', 41, 'Mickey', 43, 44, 'MickeyMouse', 46, 47, 'Mickey', 49, 'Mouse', 'Mickey', 52, 53, 'Mickey', 'Mouse', 56, 'Mickey', 58, 59, 'MickeyMouse', 61, 62, 'Mickey', 64, 'Mouse', 'Mickey', 67, 68, 'Mickey', 'Mouse', 71, 'Mickey', 73, 74, 'MickeyMouse', 76, 77, 'Mickey', 79, 'Mouse', 'Mickey', 82, 83, 'Mickey', 'Mouse', 86, 'Mickey', 88, 89, 'MickeyMouse', 91, 92, 'Mickey', 94, 'Mouse', 'Mickey', 97, 98, 'Mickey', 'Mouse']\n"
     ]
    }
   ],
   "source": [
    "mm=[]\n",
    "for i in range(1,101):\n",
    "    o=\"\"\n",
    "    if i%3==0: o+=\"Mickey\"\n",
    "    if i%5==0: o+=\"Mouse\"\n",
    "    if o==\"\": o=i\n",
    "    mm.append(o)\n",
    "print(mm)"
   ]
  },
  {
   "cell_type": "code",
   "execution_count": 2,
   "metadata": {},
   "outputs": [
    {
     "name": "stdout",
     "output_type": "stream",
     "text": [
      "(1, 2, 'Donald', 4, 'Duck', 'Donald', 7, 8, 'Donald', 'Duck', 11, 'Donald', 13, 14, 'MickeyMouse', 16, 17, 'Donald', 19, 'Duck', 'Donald', 22, 23, 'Donald', 'Duck', 26, 'Donald', 28, 29, 'MickeyMouse', 31, 32, 'Donald', 34, 'Duck', 'Donald', 37, 38, 'Donald', 'Duck', 41, 'Donald', 43, 44, 'MickeyMouse', 46, 47, 'Donald', 49, 'Duck', 'Donald', 52, 53, 'Donald', 'Duck', 56, 'Donald', 58, 59, 'MickeyMouse', 61, 62, 'Donald', 64, 'Duck', 'Donald', 67, 68, 'Donald', 'Duck', 71, 'Donald', 73, 74, 'MickeyMouse', 76, 77, 'Donald', 79, 'Duck', 'Donald', 82, 83, 'Donald', 'Duck', 86, 'Donald', 88, 89, 'MickeyMouse', 91, 92, 'Donald', 94, 'Duck', 'Donald', 97, 98, 'Donald', 'Duck')\n"
     ]
    }
   ],
   "source": [
    "b=[]\n",
    "for i in range(len(a)):\n",
    "    if a[i] == \"Mickey\":\n",
    "        i=\"Donald\"\n",
    "    elif a[i] == \"Mouse\":\n",
    "        i=\"Duck\"\n",
    "    else:\n",
    "        i=a[i]\n",
    "    b.append(i)\n",
    "print(tuple(b))"
   ]
  },
  {
   "cell_type": "markdown",
   "metadata": {},
   "source": [
    "2\\. The swap function\n",
    "\n",
    "Write a function that swap the values of two input variables x and y (whatever the type). Try to do that also without a temporary variable"
   ]
  },
  {
   "cell_type": "code",
   "execution_count": 3,
   "metadata": {},
   "outputs": [
    {
     "name": "stdout",
     "output_type": "stream",
     "text": [
      "First variable: gg\n",
      "Second variable: hh\n"
     ]
    },
    {
     "data": {
      "text/plain": [
       "('hh', 'gg')"
      ]
     },
     "execution_count": 3,
     "metadata": {},
     "output_type": "execute_result"
    }
   ],
   "source": [
    "a = input(\"First variable: \")\n",
    "b = input (\"Second variable: \")\n",
    "\n",
    "def swapfunc(a,b):\n",
    "    temp_a = a\n",
    "    a = b\n",
    "    b = temp_a\n",
    "    return a,b\n",
    "\n",
    "swapfunc(a,b)"
   ]
  },
  {
   "cell_type": "markdown",
   "metadata": {},
   "source": [
    "3\\. Computing the distance\n",
    "\n",
    "Write a function that calculates and returns the euclidean distance between two points *u* and *v*, where *u* and *v* are both 2-tuples *(x,y)*. For example, if *u=(3,0)* and *v=(0,4)*, the function should return 5"
   ]
  },
  {
   "cell_type": "code",
   "execution_count": 5,
   "metadata": {},
   "outputs": [
    {
     "name": "stdout",
     "output_type": "stream",
     "text": [
      "Enter coords here w/ a comma between: 1,2\n",
      "Enter coords here w/ a comma between: 4,5\n",
      "The euclidean distance is: 1.41\n"
     ]
    }
   ],
   "source": [
    "#define function\n",
    "import math\n",
    "def euclidean_distance(x1, y1, x2, y2):\n",
    "    try:\n",
    "        dist = math.sqrt((x1-y1)**2+(x2-y2)**2)\n",
    "    except:\n",
    "        print(\"The arguments must be floats or ints\")\n",
    "    return dist\n",
    "      \n",
    "x1, y1 = input(\"Enter coords here w/ a comma between: \").split(',')\n",
    "x2, y2 = input(\"Enter coords here w/ a comma between: \").split(',')\n",
    "\n",
    "#make them floats\n",
    "x1, y1 = [float(x1), float(y1)]\n",
    "x2, y2 = [float(x2), float(y2)]\n",
    "\n",
    "distance = euclidean_distance(x1, y1, x2, y2)\n",
    "print(\"The euclidean distance is: {dist:.2f}\".format(dist=distance))"
   ]
  },
  {
   "cell_type": "markdown",
   "metadata": {},
   "source": [
    "4\\. Counting letters\n",
    "\n",
    "Write a program to calculate the number of times each character occurs in a given string *s*. Ignore differneces in capitalization"
   ]
  },
  {
   "cell_type": "code",
   "execution_count": 6,
   "metadata": {},
   "outputs": [],
   "source": [
    "s=\"Write a program that prints the numbers from 1 to 100. But for multiples of three print Mickey instead of the number and for the multiples of five print Mouse. \\\n",
    "For numbers which are multiples of both three and five print MickeyMouse\""
   ]
  },
  {
   "cell_type": "code",
   "execution_count": 2,
   "metadata": {},
   "outputs": [
    {
     "name": "stdout",
     "output_type": "stream",
     "text": [
      "232\n"
     ]
    }
   ],
   "source": [
    "#First method based on the calculation of all characters\n",
    "print(len(s))"
   ]
  },
  {
   "cell_type": "code",
   "execution_count": 7,
   "metadata": {},
   "outputs": [
    {
     "name": "stdout",
     "output_type": "stream",
     "text": [
      "Character:   \t Num of occurencies: 41\n",
      "Character: . \t Num of occurencies: 2\n",
      "Character: 0 \t Num of occurencies: 2\n",
      "Character: 1 \t Num of occurencies: 2\n",
      "Character: a \t Num of occurencies: 7\n",
      "Character: b \t Num of occurencies: 5\n",
      "Character: c \t Num of occurencies: 3\n",
      "Character: d \t Num of occurencies: 3\n",
      "Character: e \t Num of occurencies: 22\n",
      "Character: f \t Num of occurencies: 10\n",
      "Character: g \t Num of occurencies: 1\n",
      "Character: h \t Num of occurencies: 9\n",
      "Character: i \t Num of occurencies: 14\n",
      "Character: k \t Num of occurencies: 2\n",
      "Character: l \t Num of occurencies: 6\n",
      "Character: m \t Num of occurencies: 12\n",
      "Character: n \t Num of occurencies: 10\n",
      "Character: o \t Num of occurencies: 13\n",
      "Character: p \t Num of occurencies: 8\n",
      "Character: r \t Num of occurencies: 17\n",
      "Character: s \t Num of occurencies: 9\n",
      "Character: t \t Num of occurencies: 19\n",
      "Character: u \t Num of occurencies: 9\n",
      "Character: v \t Num of occurencies: 2\n",
      "Character: w \t Num of occurencies: 2\n",
      "Character: y \t Num of occurencies: 2\n",
      "232\n"
     ]
    }
   ],
   "source": [
    "#Second method: using a dictionary\n",
    "s2 = sorted(s.lower())\n",
    "\n",
    "freq = {} \n",
    "    \n",
    "for ele in s2: \n",
    "    if ele in freq: \n",
    "        freq[ele] += 1\n",
    "    else: \n",
    "        freq[ele] = 1\n",
    "    \n",
    "# printing result\n",
    "sums=0\n",
    "for ele in freq:\n",
    "    print (\"Character:\", ele, \"\\t Num of occurencies:\", freq[ele])\n",
    "    sums+=freq[ele]\n",
    "\n",
    "print(sums)"
   ]
  },
  {
   "cell_type": "markdown",
   "metadata": {},
   "source": [
    "5\\. Isolating the unique\n",
    "\n",
    "Write a function that determines and count the unique numbers in the list *l*"
   ]
  },
  {
   "cell_type": "code",
   "execution_count": 13,
   "metadata": {},
   "outputs": [],
   "source": [
    "l = [36, 45, 58, 3, 74, 96, 64, 45, 31, 10, 24, 19, 33, 86, 99, 18, 63, 70, 85,\n",
    " 85, 63, 47, 56, 42, 70, 84, 88, 55, 20, 54, 8, 56, 51, 79, 81, 57, 37, 91,\n",
    " 1, 84, 84, 36, 66, 9, 89, 50, 42, 91, 50, 95, 90, 98, 39, 16, 82, 31, 92, 41,\n",
    " 45, 30, 66, 70, 34, 85, 94, 5, 3, 36, 72, 91, 84, 34, 87, 75, 53, 51, 20, 89, 51, 20]"
   ]
  },
  {
   "cell_type": "code",
   "execution_count": 14,
   "metadata": {},
   "outputs": [
    {
     "name": "stdout",
     "output_type": "stream",
     "text": [
      "54\n"
     ]
    }
   ],
   "source": [
    "l = set(l)\n",
    "print(len(l))"
   ]
  },
  {
   "cell_type": "markdown",
   "metadata": {},
   "source": [
    "6\\. Combination of functions\n",
    "\n",
    "Write two functions - one that returns the square of a number, and one that returns the cube. Now write a third function that returns the number raised to the 6th power using the two previous functions."
   ]
  },
  {
   "cell_type": "code",
   "execution_count": 6,
   "metadata": {},
   "outputs": [
    {
     "name": "stdout",
     "output_type": "stream",
     "text": [
      "True\n"
     ]
    }
   ],
   "source": [
    "def powefunc(a,pow):\n",
    "    power=a**(pow)\n",
    "    return power\n",
    "\n",
    "def sixpow(a):\n",
    "    power=powefunc(powefunc(a,3),2)\n",
    "    return power\n",
    "\n",
    "a=2\n",
    "\n",
    "print(sixpow(a)==powefunc(a,6))"
   ]
  },
  {
   "cell_type": "markdown",
   "metadata": {},
   "source": [
    "7\\. Cubes\n",
    "\n",
    "Create a list of the cubes of x for x in *[0, 10]* using:\n",
    "\n",
    "a) a for loop\n",
    "\n",
    "b) a list comprehension"
   ]
  },
  {
   "cell_type": "code",
   "execution_count": 17,
   "metadata": {},
   "outputs": [
    {
     "name": "stdout",
     "output_type": "stream",
     "text": [
      "0 \t 0\n",
      "1 \t 1\n",
      "2 \t 8\n",
      "3 \t 27\n",
      "4 \t 64\n",
      "5 \t 125\n",
      "6 \t 216\n",
      "7 \t 343\n",
      "8 \t 512\n",
      "9 \t 729\n",
      "10 \t 1000\n"
     ]
    }
   ],
   "source": [
    "#using a for loop\n",
    "lista1=[]\n",
    "\n",
    "for i in range(0,11):\n",
    "    lista1.append(i**3)\n",
    "    print(i, \"\\t\", lista1[i])"
   ]
  },
  {
   "cell_type": "code",
   "execution_count": 18,
   "metadata": {},
   "outputs": [
    {
     "name": "stdout",
     "output_type": "stream",
     "text": [
      "[0, 1, 8, 27, 64, 125, 216, 343, 512, 729, 1000]\n"
     ]
    }
   ],
   "source": [
    "lista2 = [i**3 for i in range(0,11)]\n",
    "print(lista2)"
   ]
  },
  {
   "cell_type": "markdown",
   "metadata": {},
   "source": [
    "8\\. Nested list comprehension\n",
    "\n",
    "A Pythagorean triple is an integer solution to the Pythagorean theorem $a^2+b^2=c^2$. The first Pythagorean triple is (3,4,5). Find and put in a tuple all unique Pythagorean triples for the positive integers a, b and c less than 100."
   ]
  },
  {
   "cell_type": "code",
   "execution_count": 7,
   "metadata": {},
   "outputs": [
    {
     "name": "stdout",
     "output_type": "stream",
     "text": [
      "Set the limit: 100\n",
      "((3, 4, 5), (5, 12, 13), (6, 8, 10), (7, 24, 25), (8, 15, 17), (9, 12, 15), (9, 40, 41), (10, 24, 26), (11, 60, 61), (12, 16, 20), (12, 35, 37), (13, 84, 85), (14, 48, 50), (15, 20, 25), (15, 36, 39), (16, 30, 34), (16, 63, 65), (18, 24, 30), (18, 80, 82), (20, 21, 29), (20, 48, 52), (21, 28, 35), (21, 72, 75), (24, 32, 40), (24, 45, 51), (24, 70, 74), (25, 60, 65), (27, 36, 45), (28, 45, 53), (28, 96, 100), (30, 40, 50), (30, 72, 78), (32, 60, 68), (33, 44, 55), (33, 56, 65), (35, 84, 91), (36, 48, 60), (36, 77, 85), (39, 52, 65), (39, 80, 89), (40, 42, 58), (40, 75, 85), (42, 56, 70), (45, 60, 75), (48, 55, 73), (48, 64, 80), (51, 68, 85), (54, 72, 90), (57, 76, 95), (60, 63, 87), (60, 80, 100), (65, 72, 97))\n"
     ]
    }
   ],
   "source": [
    "limit = input(\"Set the limit: \")\n",
    "limit = int(limit)\n",
    "lista =[(a,b,c) for a in range(1,limit+1) for b in range(1,limit+1) for c in range(1,limit+1) if a**2+b**2==c**2 and a<=b]\n",
    "TpLista=tuple(lista)\n",
    "print(TpLista)"
   ]
  },
  {
   "cell_type": "markdown",
   "metadata": {},
   "source": [
    "9\\. Normalization\n",
    "\n",
    "Write a function that takes a tuple of numbers and returns it with the entries normalized to one"
   ]
  },
  {
   "cell_type": "code",
   "execution_count": 8,
   "metadata": {},
   "outputs": [
    {
     "name": "stdout",
     "output_type": "stream",
     "text": [
      "(0.16012815380508713, 0.32025630761017426, 0.48038446141526137, 0.8006407690254357)\n",
      "(0.09090909090909091, 0.18181818181818182, 0.2727272727272727, 0.45454545454545453)\n"
     ]
    }
   ],
   "source": [
    "import math\n",
    "a=(1,2,3,5)\n",
    "\n",
    "#using the norm\n",
    "def norm_vec(a):\n",
    "    b=[a[i]**2 for i in range(0,len(a))]\n",
    "    norm=math.sqrt(sum(b))\n",
    "    c=[a[i]/norm for i in range(0,len(a))]\n",
    "    c=tuple(c)\n",
    "    return c\n",
    "\n",
    "#using the sum\n",
    "def norm_vec_sum(a):\n",
    "    return tuple([float(i)/sum(a) for i in a])\n",
    "\n",
    "print(norm_vec(a))\n",
    "print(norm_vec_sum(a))"
   ]
  },
  {
   "cell_type": "code",
   "execution_count": null,
   "metadata": {},
   "outputs": [],
   "source": []
  }
 ],
 "metadata": {
  "kernelspec": {
   "display_name": "Python 3 (ipykernel)",
   "language": "python",
   "name": "python3"
  },
  "language_info": {
   "codemirror_mode": {
    "name": "ipython",
    "version": 3
   },
   "file_extension": ".py",
   "mimetype": "text/x-python",
   "name": "python",
   "nbconvert_exporter": "python",
   "pygments_lexer": "ipython3",
   "version": "3.9.13"
  }
 },
 "nbformat": 4,
 "nbformat_minor": 2
}
